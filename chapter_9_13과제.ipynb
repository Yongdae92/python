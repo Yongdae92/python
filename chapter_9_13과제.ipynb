{
  "nbformat": 4,
  "nbformat_minor": 0,
  "metadata": {
    "colab": {
      "provenance": [],
      "include_colab_link": true
    },
    "kernelspec": {
      "name": "python3",
      "display_name": "Python 3"
    },
    "language_info": {
      "name": "python"
    }
  },
  "cells": [
    {
      "cell_type": "markdown",
      "metadata": {
        "id": "view-in-github",
        "colab_type": "text"
      },
      "source": [
        "<a href=\"https://colab.research.google.com/github/Yongdae92/work/blob/main/chapter_9_13%EA%B3%BC%EC%A0%9C.ipynb\" target=\"_parent\"><img src=\"https://colab.research.google.com/assets/colab-badge.svg\" alt=\"Open In Colab\"/></a>"
      ]
    },
    {
      "cell_type": "markdown",
      "source": [
        "안녕하세요. 수강생 여러분~! Chapter10 ~ 13 수업은 잘 들으셨나요?\n",
        "\n",
        "Chapter10 ~ 13의 수업 내용을 바탕으로 아래 문제를 풀어주시면 됩니다.\n",
        "\n",
        "####**제출 방법 안내**\n",
        "상단 파일명(Chapter03_기초과제.ipynb)을 Chapter01_기초과제_000(본인이름).ipynb로 변경후 아래 링크로 접속 후 본인 이름의 폴더에 제출해주면 됩니다.\n",
        "\n",
        "제출 링크 :\n",
        "\n",
        "####**답변 입력 방법 안내**\n",
        "\"답변\"이라고 적힌란을 마우스로 더블 클릭하시면 글을 작성할 수 있습니다.\n",
        "\n",
        "텍스트에 글을 더 잘 작성하기 위해서는 마크다운 언어를 공부하시면 됩니다.\n",
        "\n",
        "**(구글 검색 창에 \"코랩 마크다운\" 검색)**"
      ],
      "metadata": {
        "id": "fD4Qab2qYgOm"
      }
    },
    {
      "cell_type": "markdown",
      "source": [
        "##문제1\n",
        "movie_rank 리스트에는 아래와 같이 네 개의 영화 제목이 바인딩되어 있다. \"비밀\"을 \"나폴레옹\"과 \"괴물\" 사이에 추가하라.\n",
        "\n",
        "\n",
        "\n",
        "```\n",
        "movie = ['서울의 봄', '나폴레옹', '괴물', '베트맨']\n",
        "```\n",
        "\n"
      ],
      "metadata": {
        "id": "swqdcIl8Yn-c"
      }
    },
    {
      "cell_type": "code",
      "source": [
        "movie = ['서울의 봄', '나폴레옹', '괴물', '베트맨']\n",
        "movie[1:2] = \"나폴레옹\", \"비밀\"\n",
        "\n",
        "print(movie)"
      ],
      "metadata": {
        "id": "vjUhNFdBYo2n",
        "colab": {
          "base_uri": "https://localhost:8080/"
        },
        "outputId": "a484af84-6faa-43d6-e5ea-ab43a2dea240"
      },
      "execution_count": null,
      "outputs": [
        {
          "output_type": "stream",
          "name": "stdout",
          "text": [
            "['서울의 봄', '나폴레옹', '비밀', '괴물', '베트맨']\n"
          ]
        }
      ]
    },
    {
      "cell_type": "markdown",
      "source": [
        "##문제2\n",
        "movie_rank 리스트에서 '베트맨'를 삭제하라.\n",
        "\n",
        "```\n",
        "movie = ['서울의 봄', '나폴레옹', '비밀', '괴물', '베트맨']\n",
        "```\n",
        "\n"
      ],
      "metadata": {
        "id": "KZBNuM5MYpZR"
      }
    },
    {
      "cell_type": "code",
      "source": [
        "movie = ['서울의 봄', '나폴레옹', '비밀', '괴물', '베트맨']\n",
        "movie = movie[0:4]\n",
        "\n",
        "print(movie)"
      ],
      "metadata": {
        "id": "cPezrT7cYreh",
        "colab": {
          "base_uri": "https://localhost:8080/"
        },
        "outputId": "03344be7-43cc-4f2c-a3f0-1379e887c4b8"
      },
      "execution_count": null,
      "outputs": [
        {
          "output_type": "stream",
          "name": "stdout",
          "text": [
            "['서울의 봄', '나폴레옹', '비밀', '괴물']\n"
          ]
        }
      ]
    },
    {
      "cell_type": "markdown",
      "source": [
        "##문제3\n",
        "\n",
        "[언어1]과 [언어2] 리스트가 있을 때 언어1과 언어2의 원소를 모두 갖고 있는 [언어모음]이라는 list를 만들어주세요\n",
        "\n",
        "lang1 = [\"C\", \"C++\", \"JAVA\"]  \n",
        "lang2 = [\"Python\", \"Go\", \"C#\"]  \n",
        "\n",
        "실행 예:\n",
        "언어들\n",
        "['C', 'C++', 'JAVA', 'Python', 'Go', 'C#']"
      ],
      "metadata": {
        "id": "i8EJYPY0YsAe"
      }
    },
    {
      "cell_type": "code",
      "source": [
        "lang1 = [\"C\", \"C++\", \"JAVA\"]\n",
        "lang2 = [\"Python\", \"Go\", \"C#\"]\n",
        "\n",
        "언어모음 = lang1 + lang2\n",
        "print(언어모음)"
      ],
      "metadata": {
        "id": "GGfoaIivLKxT",
        "colab": {
          "base_uri": "https://localhost:8080/"
        },
        "outputId": "f4c9a826-f612-430a-d778-eaaeaeb0f7ed"
      },
      "execution_count": null,
      "outputs": [
        {
          "output_type": "stream",
          "name": "stdout",
          "text": [
            "['C', 'C++', 'JAVA', 'Python', 'Go', 'C#']\n"
          ]
        }
      ]
    },
    {
      "cell_type": "markdown",
      "source": [
        "##문제4\n",
        "다음 리스트에서 최댓값과 최솟값을 출력해주세요.\n",
        "\n",
        "```\n",
        "nums = [1, 2, 3, 4, 5, 6, 7, 9, 10]\n",
        "```\n",
        "\n"
      ],
      "metadata": {
        "id": "5VFysaYRwT69"
      }
    },
    {
      "cell_type": "code",
      "source": [
        "nums = [1, 2, 3, 4, 5, 6, 7, 9, 10]\n",
        "\n",
        "print(max(nums))\n",
        "print(min(nums))"
      ],
      "metadata": {
        "colab": {
          "base_uri": "https://localhost:8080/"
        },
        "id": "X8Uki_DEbx2m",
        "outputId": "70782dc4-26ee-49ea-82eb-6e29d54ac4e9"
      },
      "execution_count": null,
      "outputs": [
        {
          "output_type": "stream",
          "name": "stdout",
          "text": [
            "10\n",
            "1\n"
          ]
        }
      ]
    },
    {
      "cell_type": "markdown",
      "source": [
        "##문제5\n",
        "\n",
        "다음 리스트에 저장된 데이터의 개수를 화면에 구해주세요\n",
        "\n",
        "cook = [\"피자\", \"김밥\", \"만두\", \"양념치킨\", \"족발\", \"피자\", \"김치만두\", \"쫄면\"]"
      ],
      "metadata": {
        "id": "5_IA50IQE2AM"
      }
    },
    {
      "cell_type": "code",
      "source": [
        "cook = [\"피자\", \"김밥\", \"만두\", \"양념치킨\", \"족발\", \"피자\", \"김치만두\", \"쫄면\"]\n",
        "\n",
        "print(len(cook))"
      ],
      "metadata": {
        "id": "iRDvWnF8wTXa",
        "colab": {
          "base_uri": "https://localhost:8080/"
        },
        "outputId": "660cce84-c4a2-44dd-b1a1-09bbe2e9525c"
      },
      "execution_count": null,
      "outputs": [
        {
          "output_type": "stream",
          "name": "stdout",
          "text": [
            "8\n"
          ]
        }
      ]
    },
    {
      "cell_type": "markdown",
      "source": [
        "##문제6\n",
        "\n",
        "다음 리스트의 평균을 출력해주세요\n",
        "\n",
        "nums = [1, 2, 3, 4, 5]"
      ],
      "metadata": {
        "id": "7DVH0FOBE4pt"
      }
    },
    {
      "cell_type": "code",
      "source": [
        "nums = [1, 2, 3, 4, 5]\n",
        "\n",
        "sum(nums) / len(nums)\n"
      ],
      "metadata": {
        "id": "NXmaxplTE4QY",
        "colab": {
          "base_uri": "https://localhost:8080/"
        },
        "outputId": "cd8038cc-b344-4981-d652-551648cd8104"
      },
      "execution_count": null,
      "outputs": [
        {
          "output_type": "execute_result",
          "data": {
            "text/plain": [
              "3.0"
            ]
          },
          "metadata": {},
          "execution_count": 15
        }
      ]
    },
    {
      "cell_type": "markdown",
      "source": [
        "## 문제7\n",
        "\n",
        "price 변수에는 날짜와 종가 정보가 저장돼 있습니다.\n",
        "날짜 정보를 제외하고 가격 정보만을 출력해주세요\n",
        "\n",
        "price = ['20180728', 100, 130, 140, 150, 160, 170]\n",
        "\n",
        "출력:\n",
        "[100, 130, 140, 150, 160, 170]"
      ],
      "metadata": {
        "id": "Cp7IpuJBFcq2"
      }
    },
    {
      "cell_type": "code",
      "source": [
        "price = ['20180728', 100, 130, 140, 150, 160, 170]\n",
        "price = price[1:]\n",
        "\n",
        "print(price)\n"
      ],
      "metadata": {
        "id": "BpMb0bHPFdKF",
        "colab": {
          "base_uri": "https://localhost:8080/"
        },
        "outputId": "9d9daa09-9264-4b92-a39a-cae80069ec04"
      },
      "execution_count": null,
      "outputs": [
        {
          "output_type": "stream",
          "name": "stdout",
          "text": [
            "[100, 130, 140, 150, 160, 170]\n"
          ]
        }
      ]
    },
    {
      "cell_type": "markdown",
      "source": [
        "## 문제8\n",
        "\n",
        "아래 코드 실행 시 오류가 발생한 사유를 설명해주세요\n",
        "\n",
        "t = (1, 2, 3)   \n",
        "t[0] = 'a'    \n",
        "Traceback (most recent call last):  \n",
        "   File \"<pyshell#46>\", line 1, in <module>  \n",
        "      t[0] = 'a'   \n",
        "TypeError: 'tuple' object does not support item assignment  "
      ],
      "metadata": {
        "id": "arxKtWk9Fy-9"
      }
    },
    {
      "cell_type": "code",
      "source": [
        "# 튜플은 변경이 불가능하기때문에 오류발생\n",
        "\n",
        "t = (1, 2, 3)   # 튜플\n",
        "t[0] = 'a'  #튜플의 수정불가\n",
        "\n"
      ],
      "metadata": {
        "colab": {
          "base_uri": "https://localhost:8080/",
          "height": 239
        },
        "id": "aWYhlecG81Up",
        "outputId": "5be5812f-b202-430e-fbd6-68c278693364"
      },
      "execution_count": null,
      "outputs": [
        {
          "output_type": "error",
          "ename": "TypeError",
          "evalue": "ignored",
          "traceback": [
            "\u001b[0;31m---------------------------------------------------------------------------\u001b[0m",
            "\u001b[0;31mTypeError\u001b[0m                                 Traceback (most recent call last)",
            "\u001b[0;32m<ipython-input-23-c87de34465f9>\u001b[0m in \u001b[0;36m<cell line: 4>\u001b[0;34m()\u001b[0m\n\u001b[1;32m      2\u001b[0m \u001b[0;34m\u001b[0m\u001b[0m\n\u001b[1;32m      3\u001b[0m \u001b[0mt\u001b[0m \u001b[0;34m=\u001b[0m \u001b[0;34m(\u001b[0m\u001b[0;36m1\u001b[0m\u001b[0;34m,\u001b[0m \u001b[0;36m2\u001b[0m\u001b[0;34m,\u001b[0m \u001b[0;36m3\u001b[0m\u001b[0;34m)\u001b[0m   \u001b[0;31m# 튜플\u001b[0m\u001b[0;34m\u001b[0m\u001b[0;34m\u001b[0m\u001b[0m\n\u001b[0;32m----> 4\u001b[0;31m \u001b[0mt\u001b[0m\u001b[0;34m[\u001b[0m\u001b[0;36m0\u001b[0m\u001b[0;34m]\u001b[0m \u001b[0;34m=\u001b[0m \u001b[0;34m'a'\u001b[0m  \u001b[0;31m#튜플의 수정불가\u001b[0m\u001b[0;34m\u001b[0m\u001b[0;34m\u001b[0m\u001b[0m\n\u001b[0m\u001b[1;32m      5\u001b[0m \u001b[0;34m\u001b[0m\u001b[0m\n",
            "\u001b[0;31mTypeError\u001b[0m: 'tuple' object does not support item assignment"
          ]
        }
      ]
    },
    {
      "cell_type": "markdown",
      "source": [
        "## 문제9\n",
        "다음 딕셔너리를 사용하여 메로나 가격을 출력하라.\n",
        "\n",
        "ice = {'메로나': 1000,\n",
        "       '폴로포': 1200,\n",
        "       '빵빠레': 1800,\n",
        "       '죠스바': 1200,\n",
        "       '월드콘': 1500}\n",
        "\n",
        "실행 예:\n",
        "메로나 가격: 1000"
      ],
      "metadata": {
        "id": "1DwclZivGe72"
      }
    },
    {
      "cell_type": "code",
      "source": [
        "ice = {'메로나': 1000, '폴로포': 1200, '빵빠레': 1800, '죠스바': 1200, '월드콘': 1500}\n",
        "\n",
        "ice[\"메로나\"]"
      ],
      "metadata": {
        "id": "jADTPFzOHcKk",
        "colab": {
          "base_uri": "https://localhost:8080/"
        },
        "outputId": "91dfbbaa-20fe-4a54-9ebc-db0cb3b2f676"
      },
      "execution_count": null,
      "outputs": [
        {
          "output_type": "execute_result",
          "data": {
            "text/plain": [
              "1000"
            ]
          },
          "metadata": {},
          "execution_count": 26
        }
      ]
    },
    {
      "cell_type": "markdown",
      "source": [
        "##문제10\n",
        "\n",
        "다음 딕셔너리에서 메로나의 가격을 1300으로 수정하라.\n",
        "\n",
        "ice = {'메로나': 1000,\n",
        "       '폴로포': 1200,\n",
        "       '빵빠레': 1800,\n",
        "       '죠스바': 1200,\n",
        "       '월드콘': 1500}"
      ],
      "metadata": {
        "id": "mBs2AaqcJAXN"
      }
    },
    {
      "cell_type": "code",
      "source": [
        "ice = {'메로나': 1000, '폴로포': 1200, '빵빠레': 1800, '죠스바': 1200, '월드콘': 1500}\n",
        "ice[\"메로나\"]=1300\n",
        "\n",
        "print(ice)\n",
        "\n",
        "\n"
      ],
      "metadata": {
        "id": "C2RyUgoTJKsF",
        "colab": {
          "base_uri": "https://localhost:8080/"
        },
        "outputId": "62715b5a-4fea-46ff-912e-64bfeb20fa3a"
      },
      "execution_count": null,
      "outputs": [
        {
          "output_type": "stream",
          "name": "stdout",
          "text": [
            "{'메로나': 1300, '폴로포': 1200, '빵빠레': 1800, '죠스바': 1200, '월드콘': 1500}\n"
          ]
        }
      ]
    },
    {
      "cell_type": "markdown",
      "source": [
        "## 문제11\n",
        "아래 순서대로 주어진 수강생 이름과 등급을 하나의 딕셔너리로 만드는 코드를 작성해주세요\n",
        "\n",
        "\n",
        "이름 : 나이썬, 김자바, 김씨, 박씨샵  \n",
        "등급 :   B       B      A      C\n"
      ],
      "metadata": {
        "id": "_ZdcVEtTJKS1"
      }
    },
    {
      "cell_type": "code",
      "source": [
        "#리스트\n",
        "이름 = [\"나이썬\", \"김자바\", \"김씨\", \"박씨샵\"]\n",
        "등급 = [\"B\", \"B\", \"A\", \"C\"]\n",
        "\n",
        "#딕셔너리\n",
        "수강생 = dict(zip(이름, 등급))\n",
        "\n",
        "print(수강생)"
      ],
      "metadata": {
        "id": "7RyqlYwpJOp7",
        "colab": {
          "base_uri": "https://localhost:8080/"
        },
        "outputId": "695de404-8f3c-464a-f295-a2f34dd9d98b"
      },
      "execution_count": null,
      "outputs": [
        {
          "output_type": "stream",
          "name": "stdout",
          "text": [
            "{'나이썬': 'B', '김자바': 'B', '김씨': 'A', '박씨샵': 'C'}\n"
          ]
        }
      ]
    },
    {
      "cell_type": "markdown",
      "source": [
        "## 문제12\n",
        "아래 ice 딕셔너리에 데이터를 추가 후 출력해주세\n",
        "\n",
        "ice = {\"메로나\": [300, 20],  \n",
        "              \"비비빅\": [400, 3],  \n",
        "              \"죠스바\": [250, 100]}  \n",
        "\n",
        "\n",
        "추가해야하는 데이터 : 이름 : 보석바, 가격:650, 재고:10"
      ],
      "metadata": {
        "id": "yzi6f2-YKsk4"
      }
    },
    {
      "cell_type": "code",
      "source": [
        "ice = {\"메로나\": [300, 20], \"비비빅\": [400, 3], \"죠스바\": [250, 100]}\n",
        "\n",
        "# 보석바 추가\n",
        "ice.update({\"보석바\":[650, 10]})\n",
        "\n",
        "print(ice)"
      ],
      "metadata": {
        "colab": {
          "base_uri": "https://localhost:8080/"
        },
        "id": "NqUGn0ZBiIAl",
        "outputId": "cd6533e2-df82-4b32-8112-5d17f59f66f9"
      },
      "execution_count": null,
      "outputs": [
        {
          "output_type": "stream",
          "name": "stdout",
          "text": [
            "{'메로나': [300, 20], '비비빅': [400, 3], '죠스바': [250, 100], '보석바': [650, 10]}\n"
          ]
        }
      ]
    },
    {
      "cell_type": "markdown",
      "source": [
        "##문제13\n",
        "\n",
        "아래 딕셔너리에서 key만 출력해주세요  \n",
        "\n",
        "ice = {'메로나': 1000, '폴로포': 1200, '빵빠레': 1800, '죠스바': 1200, '월드콘': 1500}\n"
      ],
      "metadata": {
        "id": "RQJC80PBLWGt"
      }
    },
    {
      "cell_type": "code",
      "source": [
        "ice = {'메로나': 1000, '폴로포': 1200, '빵빠레': 1800, '죠스바': 1200, '월드콘': 1500}\n",
        "\n",
        "print(ice.keys())"
      ],
      "metadata": {
        "id": "m5m-a09iLVbO",
        "colab": {
          "base_uri": "https://localhost:8080/"
        },
        "outputId": "e5a10dfb-869d-4b89-f4a5-5393f134306b"
      },
      "execution_count": null,
      "outputs": [
        {
          "output_type": "stream",
          "name": "stdout",
          "text": [
            "dict_keys(['메로나', '폴로포', '빵빠레', '죠스바', '월드콘'])\n"
          ]
        }
      ]
    },
    {
      "cell_type": "code",
      "source": [],
      "metadata": {
        "id": "n74AynZcjTdc"
      },
      "execution_count": null,
      "outputs": []
    }
  ]
}