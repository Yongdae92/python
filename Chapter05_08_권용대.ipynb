{
  "nbformat": 4,
  "nbformat_minor": 0,
  "metadata": {
    "colab": {
      "provenance": [],
      "include_colab_link": true
    },
    "kernelspec": {
      "name": "python3",
      "display_name": "Python 3"
    },
    "language_info": {
      "name": "python"
    }
  },
  "cells": [
    {
      "cell_type": "markdown",
      "metadata": {
        "id": "view-in-github",
        "colab_type": "text"
      },
      "source": [
        "<a href=\"https://colab.research.google.com/github/Yongdae92/work/blob/main/Chapter05_08_%EA%B6%8C%EC%9A%A9%EB%8C%80.ipynb\" target=\"_parent\"><img src=\"https://colab.research.google.com/assets/colab-badge.svg\" alt=\"Open In Colab\"/></a>"
      ]
    },
    {
      "cell_type": "markdown",
      "source": [
        "안녕하세요. 수강생 여러분~! Chapter05 ~ 08 수업은 잘 들으셨나요?\n",
        "\n",
        "Chapter05 ~ 08의 수업 내용을 바탕으로 아래 문제를 풀어주시면 됩니다.\n",
        "\n",
        "####**제출 방법 안내**\n",
        "상단 파일명(Chapter03_기초과제.ipynb)을 Chapter01_기초과제_000(본인이름).ipynb로 변경후 아래 링크로 접속 후 본인 이름의 폴더에 제출해주면 됩니다.\n",
        "\n",
        "제출 링크 :\n",
        "\n",
        "####**답변 입력 방법 안내**\n",
        "\"답변\"이라고 적힌란을 마우스로 더블 클릭하시면 글을 작성할 수 있습니다.\n",
        "\n",
        "텍스트에 글을 더 잘 작성하기 위해서는 마크다운 언어를 공부하시면 됩니다.\n",
        "\n",
        "**(구글 검색 창에 \"코랩 마크다운\" 검색)**"
      ],
      "metadata": {
        "id": "WXEwMsfUct7U"
      }
    },
    {
      "cell_type": "markdown",
      "source": [
        "-----"
      ],
      "metadata": {
        "id": "qoyC9wF-3hvs"
      }
    },
    {
      "cell_type": "markdown",
      "source": [
        "##문제1\n",
        "\n",
        "변수명 게임에 들어 있는 값 중 '홀'만 출력되도록 코드를 작성해 주세요\n",
        "\n",
        "게임 = \"홀짝홀짝홀짝\"\n",
        "\n",
        "출력 예시 : \"홀홀홀\"\n"
      ],
      "metadata": {
        "id": "rAD_O3Gmc_43"
      }
    },
    {
      "cell_type": "code",
      "source": [
        "게임 = \"홀짝홀짝홀짝\"\n",
        "print(게임[::2])"
      ],
      "metadata": {
        "id": "74wtVQFFc_h1",
        "outputId": "a2748c5e-2867-448a-ac7d-afda3cc25f08",
        "colab": {
          "base_uri": "https://localhost:8080/"
        }
      },
      "execution_count": null,
      "outputs": [
        {
          "output_type": "stream",
          "name": "stdout",
          "text": [
            "홀홀홀\n"
          ]
        }
      ]
    },
    {
      "cell_type": "markdown",
      "source": [
        "##문제2\n",
        "\n",
        "변수명 전화번호에 들어 있는 번호를 모두 붙여서 출력되도록 코드를 작성해주세요\n",
        "\n",
        "전화번호 = \"010-1234-5678\"\n",
        "\n",
        "출력 예시 : \"01012345678\""
      ],
      "metadata": {
        "id": "3uK_auXYdgk2"
      }
    },
    {
      "cell_type": "code",
      "source": [
        "전화번호 = \"010-1234-5678\"\n",
        "앞번호 = 전화번호[:3]\n",
        "중간번호 = 전화번호[4:8]\n",
        "끝번호 = 전화번호[9:14]\n",
        "\n",
        "print(f'{앞번호}{중간번호}{끝번호}')"
      ],
      "metadata": {
        "id": "9kvBxa6PdhgA",
        "outputId": "2defe608-eaa5-4495-d84e-fec161a0d96b",
        "colab": {
          "base_uri": "https://localhost:8080/"
        }
      },
      "execution_count": null,
      "outputs": [
        {
          "output_type": "stream",
          "name": "stdout",
          "text": [
            "01012345678\n"
          ]
        }
      ]
    },
    {
      "cell_type": "markdown",
      "source": [
        "##문제3\n",
        "\n",
        "창의성, 시장성, 안정성, 수익성에 대한 각각의 평가 중 아래 기준에 부합하지 못하면 창업지원을 받을 수 없습니다.\n",
        "\n",
        "- 수익성 60점 이상\n",
        "- 창의성과 시장성 50점 이상\n",
        "- 시장성과 수익성을 더한 값의 절반이 안정성 보다 높아야 함\n",
        "\n",
        "다음 점수가 입력되었을때 창업 지원이 가능한지 여부를 True 또는 False로 출력해주세요\n",
        "\n",
        "---\n",
        "\n",
        "창의성 : 62\n",
        "시장성 : 71\n",
        "안정성 : 68\n",
        "수익성 : 66"
      ],
      "metadata": {
        "id": "2Jte2VLKdiPm"
      }
    },
    {
      "cell_type": "code",
      "source": [
        "#바탕\n",
        "창의성 = 62\n",
        "시장성 = 71\n",
        "안정성 = 68\n",
        "수익성 = 66\n",
        "\n",
        "#조건\n",
        "조건1 = 수익성 >= 60\n",
        "조건2 = 창의성 >= 50 and 시장성 >= 50\n",
        "조건3 = (시장성 + 수익성) / 2 >= 안정성\n",
        "\n",
        "#창업지원\n",
        "창업지원여부 = 조건1 and 조건2 and 조건3\n",
        "\n",
        "#결과\n",
        "창업지원여부\n",
        "\n",
        "\n",
        "\n",
        "\n",
        "\n"
      ],
      "metadata": {
        "id": "XJhvRO-2djBh",
        "outputId": "9715cce5-6e72-4443-8341-bf07a10e88a4",
        "colab": {
          "base_uri": "https://localhost:8080/"
        }
      },
      "execution_count": null,
      "outputs": [
        {
          "output_type": "execute_result",
          "data": {
            "text/plain": [
              "True"
            ]
          },
          "metadata": {},
          "execution_count": 39
        }
      ]
    },
    {
      "cell_type": "code",
      "source": [
        "#바탕\n",
        "창의성 = 62\n",
        "시장성 = 71\n",
        "안정성 = 68\n",
        "수익성 = 66\n",
        "\n",
        "#조건\n",
        "조건1 = bool(수익성 >= 60)\n",
        "조건2 = bool(창의성 >= 50 and 시장성 >= 50)\n",
        "조건3 = bool((시장성 + 수익성) / 2 >= 안정성)\n",
        "\n",
        "#창업지원\n",
        "창업지원여부 = bool(조건1 and 조건2 and 조건3)\n",
        "\n",
        "#결과\n",
        "print(창업지원여부)"
      ],
      "metadata": {
        "id": "wJrAABPtq1fT",
        "outputId": "333c6d80-f66f-4b9b-f298-4ee4e5a87e7d",
        "colab": {
          "base_uri": "https://localhost:8080/"
        }
      },
      "execution_count": null,
      "outputs": [
        {
          "output_type": "stream",
          "name": "stdout",
          "text": [
            "True\n"
          ]
        }
      ]
    }
  ]
}